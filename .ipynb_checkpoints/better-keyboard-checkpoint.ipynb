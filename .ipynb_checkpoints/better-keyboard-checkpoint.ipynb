{
 "cells": [
  {
   "cell_type": "code",
   "execution_count": 69,
   "metadata": {
    "tags": []
   },
   "outputs": [],
   "source": [
    "import numpy as np\n",
    "import matplotlib.pyplot as plt\n",
    "import copy\n",
    "import random\n",
    "from functools import *\n",
    "import itertools as it"
   ]
  },
  {
   "cell_type": "code",
   "execution_count": 25,
   "metadata": {
    "tags": []
   },
   "outputs": [],
   "source": [
    "def print_board(board):\n",
    "    for row in board:\n",
    "        print(*row)"
   ]
  },
  {
   "cell_type": "markdown",
   "metadata": {
    "jp-MarkdownHeadingCollapsed": true,
    "tags": []
   },
   "source": [
    "# Frequency Matrix"
   ]
  },
  {
   "cell_type": "code",
   "execution_count": 3,
   "metadata": {
    "tags": []
   },
   "outputs": [],
   "source": [
    "def flatten_caps(word):\n",
    "    ret = ''\n",
    "    for c in word:\n",
    "        if c.isupper():\n",
    "            ret += 'A'\n",
    "        ret += c.lower()\n",
    "    return ret"
   ]
  },
  {
   "cell_type": "code",
   "execution_count": 44,
   "metadata": {
    "tags": []
   },
   "outputs": [],
   "source": [
    "def get_freq_matrix(dictionary, v=False):\n",
    "    LETTERS = set()\n",
    "    for word in dictionary:\n",
    "        LETTERS = LETTERS.union(set(word))\n",
    "    LETTERS = sorted(list(LETTERS))\n",
    "    LETTERS_INDEX = dict([el[::-1] for el in enumerate(LETTERS)])\n",
    "    \n",
    "    num_letters = len(LETTERS)\n",
    "    letter_frequency = np.zeros(num_letters)\n",
    "    transition_frequency = np.zeros((num_letters, num_letters))\n",
    "\n",
    "    for word in dictionary:\n",
    "        for i in range(len(word) - 1):\n",
    "            letter_frequency[LETTERS_INDEX[word[i]]] += 1\n",
    "            transition_frequency[LETTERS_INDEX[word[i]]][LETTERS_INDEX[word[i + 1]]] += 1\n",
    "            \n",
    "    # print(sum(transition_frequency))\n",
    "    # transition_frequency_normalized = np.array([row / sum(row) if sum(row) > 0 else row for row in transition_frequency])\n",
    "    \n",
    "    if v:\n",
    "        plt.bar([el for el in LETTERS], letter_frequency);\n",
    "        plt.matshow(transition_frequency_normalized);\n",
    "        plt.axis('off')\n",
    "        for i in range(len(LETTERS)):\n",
    "            plt.text(i - 0.5, -1, LETTERS[i])\n",
    "            plt.text(-1.5, i + 0.5, LETTERS[i])\n",
    "            \n",
    "    return transition_frequency / sum(sum(transition_frequency)), LETTERS"
   ]
  },
  {
   "cell_type": "markdown",
   "metadata": {
    "tags": []
   },
   "source": [
    "# Cost Function"
   ]
  },
  {
   "cell_type": "code",
   "execution_count": 87,
   "metadata": {
    "tags": []
   },
   "outputs": [],
   "source": [
    "@lru_cache(maxsize = None)\n",
    "def get_distance_matrix(l, w):\n",
    "    \"\"\"\n",
    "    given a length and width of grid, find the minimum distance between each two entries\n",
    "    \n",
    "    returns a matrix\n",
    "    \"\"\"\n",
    "    \n",
    "    ret = np.zeros((l * w, l * w))\n",
    "    for i in range(l * w):\n",
    "        for j in range(l * w):\n",
    "            x1, y1 = divmod(i, w)\n",
    "            x2, y2 = divmod(j, w)\n",
    "            ret[i][j] = min(abs(x1 - x2), w - abs(x1 - x2)) + abs(y1 - y2)\n",
    "            \n",
    "    return ret"
   ]
  },
  {
   "cell_type": "code",
   "execution_count": 6,
   "metadata": {
    "tags": []
   },
   "outputs": [],
   "source": [
    "def flatten(board):\n",
    "    ret = []\n",
    "    for row in board:\n",
    "        ret.extend(row)\n",
    "    return ret"
   ]
  },
  {
   "cell_type": "code",
   "execution_count": 7,
   "metadata": {
    "tags": []
   },
   "outputs": [],
   "source": [
    "def get_perm_matrix(perm):\n",
    "    ret = np.zeros((len(perm), len(perm)))\n",
    "    for i in range(len(perm)):\n",
    "        ret[i][perm[i]] += 1\n",
    "    return ret"
   ]
  },
  {
   "cell_type": "code",
   "execution_count": 8,
   "metadata": {
    "tags": []
   },
   "outputs": [],
   "source": [
    "def get_conjugate_distance_matrix(board):\n",
    "    \"\"\"\n",
    "    board is a grid of letters\n",
    "    use `get_distance_matrix` to find the matrix of distances between letter pairs\n",
    "    `get_distance_matrix` should be cached, so this should be faster\n",
    "    \n",
    "    in other words, return ret = `get_distance_matrix` with permuted rows and cols\n",
    "    so that ret[i][j] is the distance between the ith and jth letters instead of the \n",
    "    [i // w][i % w] [j // w][j % w] positions\n",
    "    \n",
    "    This should be done by conjugating `get_distance_matrix` with the permutation\n",
    "    matrix for the permutation flatten(board) with respect to sorted(flatten(board))\n",
    "\n",
    "    \"\"\"\n",
    "    \n",
    "    dist_mat = get_distance_matrix(len(board), len(board[0]))\n",
    "    flattened_board = flatten(board)\n",
    "    sorted_flattened_board = sorted(flattened_board)\n",
    "    perm_matrix = get_perm_matrix([flattened_board.index(c) for c in sorted_flattened_board])\n",
    "    \n",
    "    return perm_matrix @ dist_mat @ np.linalg.inv(perm_matrix)"
   ]
  },
  {
   "cell_type": "code",
   "execution_count": 9,
   "metadata": {},
   "outputs": [
    {
     "name": "stdout",
     "output_type": "stream",
     "text": [
      "[[0. 1. 2. 1. 2. 3.]\n",
      " [1. 0. 1. 2. 1. 2.]\n",
      " [2. 1. 0. 3. 2. 1.]\n",
      " [1. 2. 3. 0. 1. 2.]\n",
      " [2. 1. 2. 1. 0. 1.]\n",
      " [3. 2. 1. 2. 1. 0.]]\n",
      "\n",
      "[[0. 3. 2. 1. 1. 2.]\n",
      " [3. 0. 1. 2. 2. 1.]\n",
      " [2. 1. 0. 3. 1. 2.]\n",
      " [1. 2. 3. 0. 2. 1.]\n",
      " [1. 2. 1. 2. 0. 1.]\n",
      " [2. 1. 2. 1. 1. 0.]]\n"
     ]
    }
   ],
   "source": [
    "board = [\n",
    "    ['b', 'f', 'd'],\n",
    "    ['c', 'e', 'a']\n",
    "]\n",
    "print(get_distance_matrix(2, 3))\n",
    "print()\n",
    "print(get_conjugate_distance_matrix(board))"
   ]
  },
  {
   "cell_type": "code",
   "execution_count": 10,
   "metadata": {
    "tags": []
   },
   "outputs": [],
   "source": [
    "def cost(board, freq_matrix):\n",
    "    \"\"\"\n",
    "    board should be rectangle\n",
    "    freq_matrix gives frequency a matrix populated by a dictionary\n",
    "    they should be the same dimension\n",
    "    \n",
    "    \"\"\"\n",
    "    return sum(sum(freq_matrix * get_conjugate_distance_matrix(board)))"
   ]
  },
  {
   "cell_type": "markdown",
   "metadata": {
    "tags": []
   },
   "source": [
    "# Optimization"
   ]
  },
  {
   "cell_type": "code",
   "execution_count": 45,
   "metadata": {
    "tags": []
   },
   "outputs": [],
   "source": [
    "dictionary = []\n",
    "with open('words.txt') as f:\n",
    "    for word in f.readlines():\n",
    "        dictionary.append(flatten_caps(word.strip()))"
   ]
  },
  {
   "cell_type": "code",
   "execution_count": 88,
   "metadata": {
    "tags": []
   },
   "outputs": [],
   "source": [
    "freq_matrix, LETTERS = get_freq_matrix(dictionary)"
   ]
  },
  {
   "cell_type": "code",
   "execution_count": 47,
   "metadata": {
    "tags": []
   },
   "outputs": [
    {
     "name": "stdout",
     "output_type": "stream",
     "text": [
      "!&',-./0123456789Aabcdefghijklmnopqrstuvwxyz\n"
     ]
    }
   ],
   "source": [
    "print(\"\".join(LETTERS))"
   ]
  },
  {
   "cell_type": "markdown",
   "metadata": {},
   "source": [
    "## Comparison"
   ]
  },
  {
   "cell_type": "code",
   "execution_count": 98,
   "metadata": {
    "tags": []
   },
   "outputs": [],
   "source": [
    "board = np.array([\n",
    "    ['1', '2', '3', '4', '5', '6', '7', '8', '9', '0', '!'],\n",
    "    ['q', 'w', 'e', 'r', 't', 'y', 'u', 'i', 'o', 'p', '&'],\n",
    "    ['a', 's', 'd', 'f', 'g', 'h', 'j', 'k', 'l', \"'\", 'A'],\n",
    "    ['z', 'x', 'c', 'v', 'b', 'n', 'm', ',', '.', '/', '-']\n",
    "])"
   ]
  },
  {
   "cell_type": "code",
   "execution_count": 99,
   "metadata": {
    "tags": []
   },
   "outputs": [
    {
     "data": {
      "text/plain": [
       "4.129801459773482"
      ]
     },
     "execution_count": 99,
     "metadata": {},
     "output_type": "execute_result"
    }
   ],
   "source": [
    "cost(board, freq_matrix)"
   ]
  },
  {
   "cell_type": "markdown",
   "metadata": {
    "tags": []
   },
   "source": [
    "## Random"
   ]
  },
  {
   "cell_type": "code",
   "execution_count": 89,
   "metadata": {
    "tags": []
   },
   "outputs": [],
   "source": [
    "best_cost = 100 ** 100\n",
    "best_board = None\n",
    "for _ in range(10_000):\n",
    "    letters = LETTERS.copy()\n",
    "    random.shuffle(letters)\n",
    "    board = np.array(letters).reshape((4, 11))\n",
    "    c = cost(board, freq_matrix)\n",
    "    if c < best_cost:\n",
    "        best_board = board\n",
    "        best_cost = c"
   ]
  },
  {
   "cell_type": "code",
   "execution_count": 90,
   "metadata": {
    "tags": []
   },
   "outputs": [
    {
     "name": "stdout",
     "output_type": "stream",
     "text": [
      "3.3431752371765384\n",
      "\n",
      "& m 7 o c v 1 0 8 ! /\n",
      "' 2 d 9 i r s a - q x\n",
      "6 y e A t h p n j w 4\n",
      "5 f u l b k g 3 . , z\n"
     ]
    }
   ],
   "source": [
    "print(best_cost)\n",
    "print()\n",
    "print_board(best_board)"
   ]
  },
  {
   "cell_type": "markdown",
   "metadata": {
    "tags": []
   },
   "source": [
    "## Niave tree search\n",
    "\n",
    "Start with best_board from above. Look at all the children by doing a swap. Transition to the child with lowest cost.\n",
    "\n",
    "This is bad for several reasons, but first, is that it could be that a every child has greater cost. Then we are getting worse."
   ]
  },
  {
   "cell_type": "code",
   "execution_count": 91,
   "metadata": {
    "tags": []
   },
   "outputs": [],
   "source": [
    "def get_children_by_swap(board):\n",
    "    l = len(board)\n",
    "    w = len(board[0])\n",
    "    for i, j in it.permutations(range(l * w), r=2):\n",
    "        child = board.copy()\n",
    "        child[divmod(i, w)], child[divmod(j, w)] = child[divmod(j, w)], child[divmod(i, w)]\n",
    "        yield child\n",
    "    return None"
   ]
  },
  {
   "cell_type": "code",
   "execution_count": 93,
   "metadata": {
    "tags": []
   },
   "outputs": [],
   "source": [
    "board = best_board.copy()\n",
    "for _ in range(10):\n",
    "    board = sorted(\n",
    "        ((cost(child, freq_matrix), child) for child in get_children_by_swap(board)),\n",
    "        key = lambda x: x[0]\n",
    "    )[0][1]"
   ]
  },
  {
   "cell_type": "code",
   "execution_count": 94,
   "metadata": {
    "tags": []
   },
   "outputs": [
    {
     "name": "stdout",
     "output_type": "stream",
     "text": [
      "& k g o c v z 0 8 ! /\n",
      "' w p n i r b A 7 q x\n",
      "6 y h a t e d 9 j 2 4\n",
      "5 f u l s m - 3 . , 1\n",
      "\n",
      "2.4844732890476235\n"
     ]
    }
   ],
   "source": [
    "print_board(board)\n",
    "print()\n",
    "print(cost(board, freq_matrix))"
   ]
  },
  {
   "cell_type": "code",
   "execution_count": null,
   "metadata": {},
   "outputs": [],
   "source": []
  },
  {
   "cell_type": "code",
   "execution_count": null,
   "metadata": {},
   "outputs": [],
   "source": []
  },
  {
   "cell_type": "code",
   "execution_count": null,
   "metadata": {},
   "outputs": [],
   "source": []
  },
  {
   "cell_type": "code",
   "execution_count": null,
   "metadata": {},
   "outputs": [],
   "source": []
  },
  {
   "cell_type": "raw",
   "metadata": {},
   "source": [
    "FLAT RECORD\n",
    "\n",
    "7 3 q z h u c p A j &\n",
    "! 9 ' g s n i o m k /\n",
    "8 0 1 v t e a r b w 4\n",
    "6 5 2 x y d l f - . ,\n",
    "\n",
    "2.3405762907202026\n",
    "\n",
    "____________________________________________\n",
    "\n",
    "CYLINDER RECORD\n",
    "\n",
    "\n",
    "& k g o c v z 0 8 ! /\n",
    "' w p n i r b A 7 q x\n",
    "6 y h a t e d 9 j 2 4\n",
    "5 f u l s m - 3 . , 1\n",
    "\n",
    "2.4844732890476235"
   ]
  },
  {
   "cell_type": "code",
   "execution_count": null,
   "metadata": {},
   "outputs": [],
   "source": []
  },
  {
   "cell_type": "code",
   "execution_count": null,
   "metadata": {},
   "outputs": [],
   "source": []
  },
  {
   "cell_type": "code",
   "execution_count": null,
   "metadata": {},
   "outputs": [],
   "source": []
  },
  {
   "cell_type": "markdown",
   "metadata": {},
   "source": [
    "## Old"
   ]
  },
  {
   "cell_type": "code",
   "execution_count": null,
   "metadata": {},
   "outputs": [],
   "source": [
    "def random_swaps(permutation, num_swaps):\n",
    "    for i in range(num_swaps):\n",
    "        r1 = random.randint(0, 25)\n",
    "        r2 = random.randint(0, 25)\n",
    "        while r1 == r2:\n",
    "            r2 = random.randint(0, 25)\n",
    "        permutation[r1], permutation[r2] = permutation[r2], permutation[r1]\n",
    "    return permutation"
   ]
  },
  {
   "cell_type": "code",
   "execution_count": null,
   "metadata": {},
   "outputs": [],
   "source": [
    "def optimal_num_children(num_swaps):\n",
    "    total_number_of_children = 350 ** num_swaps\n",
    "    # percent of population for half confidence of seeing all children\n",
    "    # https://www.desmos.com/calculator/d1svxeq9uj\n",
    "    perc = np.math.log(0.7 * (total_number_of_children + 2), np.math.e) + 0.7\n",
    "    return int(perc * total_number_of_children)"
   ]
  },
  {
   "cell_type": "code",
   "execution_count": null,
   "metadata": {
    "tags": []
   },
   "outputs": [],
   "source": [
    "best_permutation = None\n",
    "new_best_permutation = list(np.random.permutation(26).data)\n",
    "best_cost = cost(new_best_permutation)\n",
    "\n",
    "for num_swaps in [10, 10, 9, 9, 8, 8, 7, 6, 5, 4, 4, 4, 4] + ([3] * 10) + ([2] * 20) + ([1] * 10):\n",
    "    best_permutation = new_best_permutation.copy()\n",
    "    for _ in range(100):\n",
    "        new_permutation = random_swaps(best_permutation.copy(), num_swaps)\n",
    "        c = cost(new_permutation)\n",
    "        if c < best_cost:\n",
    "            best_cost = c\n",
    "            new_best_permutation = new_permutation.copy()\n",
    "    print(num_swaps, '  best:', best_cost)"
   ]
  },
  {
   "cell_type": "code",
   "execution_count": null,
   "metadata": {},
   "outputs": [],
   "source": [
    "print(new_best_permutation)\n",
    "print_board(new_best_permutation)\n",
    "cost(new_best_permutation)"
   ]
  },
  {
   "cell_type": "code",
   "execution_count": null,
   "metadata": {},
   "outputs": [],
   "source": []
  },
  {
   "cell_type": "code",
   "execution_count": null,
   "metadata": {},
   "outputs": [],
   "source": []
  },
  {
   "cell_type": "code",
   "execution_count": null,
   "metadata": {},
   "outputs": [],
   "source": []
  },
  {
   "cell_type": "code",
   "execution_count": null,
   "metadata": {},
   "outputs": [],
   "source": []
  }
 ],
 "metadata": {
  "kernelspec": {
   "display_name": "Python 3 (ipykernel)",
   "language": "python",
   "name": "python3"
  },
  "language_info": {
   "codemirror_mode": {
    "name": "ipython",
    "version": 3
   },
   "file_extension": ".py",
   "mimetype": "text/x-python",
   "name": "python",
   "nbconvert_exporter": "python",
   "pygments_lexer": "ipython3",
   "version": "3.11.11"
  }
 },
 "nbformat": 4,
 "nbformat_minor": 4
}
