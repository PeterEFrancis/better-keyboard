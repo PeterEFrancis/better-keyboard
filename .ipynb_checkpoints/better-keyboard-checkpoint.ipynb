{
 "cells": [
  {
   "cell_type": "code",
   "execution_count": 96,
   "metadata": {},
   "outputs": [],
   "source": [
    "import numpy as np\n",
    "import matplotlib.pyplot as plt\n",
    "import copy"
   ]
  },
  {
   "cell_type": "markdown",
   "metadata": {},
   "source": [
    "# Frequency Calculations"
   ]
  },
  {
   "cell_type": "code",
   "execution_count": 2,
   "metadata": {},
   "outputs": [],
   "source": [
    "LETTERS = 'abcdefghijklmnopqrstuvwxyz'\n",
    "LETTERS_INDEX = dict([el[::-1] for el in enumerate(LETTERS)])"
   ]
  },
  {
   "cell_type": "code",
   "execution_count": 3,
   "metadata": {},
   "outputs": [],
   "source": [
    "dictionary = []\n",
    "with open('words_alpha.txt') as f:\n",
    "    for word in f.readlines():\n",
    "        dictionary.append(word.strip())"
   ]
  },
  {
   "cell_type": "code",
   "execution_count": 4,
   "metadata": {},
   "outputs": [],
   "source": [
    "letter_frequency = np.zeros(26)\n",
    "transition_frequency = np.zeros((26, 26))\n",
    "\n",
    "for word in dictionary:\n",
    "    for i in range(len(word) - 1):\n",
    "        letter_frequency[LETTERS_INDEX[word[i]]] += 1\n",
    "        transition_frequency[LETTERS_INDEX[word[i]]][LETTERS_INDEX[word[i + 1]]] += 1"
   ]
  },
  {
   "cell_type": "code",
   "execution_count": 5,
   "metadata": {},
   "outputs": [],
   "source": [
    "letter_frequency_normalized = letter_frequency / sum(letter_frequency)"
   ]
  },
  {
   "cell_type": "code",
   "execution_count": 6,
   "metadata": {},
   "outputs": [
    {
     "data": {
      "image/png": "[encoded data removed]",
      "text/plain": [
       "<Figure size 432x288 with 1 Axes>"
      ]
     },
     "metadata": {
      "needs_background": "light"
     },
     "output_type": "display_data"
    }
   ],
   "source": [
    "plt.bar([el for el in LETTERS], letter_frequency);"
   ]
  },
  {
   "cell_type": "code",
   "execution_count": 7,
   "metadata": {},
   "outputs": [],
   "source": [
    "transition_frequency_normalized = np.array([row / sum(row) for row in transition_frequency])"
   ]
  },
  {
   "cell_type": "code",
   "execution_count": 8,
   "metadata": {},
   "outputs": [
    {
     "data": {
      "image/png": "[encoded data removed]",
      "text/plain": [
       "<Figure size 288x288 with 1 Axes>"
      ]
     },
     "metadata": {
      "needs_background": "light"
     },
     "output_type": "display_data"
    }
   ],
   "source": [
    "plt.matshow(transition_frequency);\n",
    "plt.axis('off')\n",
    "for i in range(26):\n",
    "    plt.text(i - 0.5, -1, LETTERS[i])\n",
    "    plt.text(-1.5, i + 0.5, LETTERS[i])"
   ]
  },
  {
   "cell_type": "code",
   "execution_count": 9,
   "metadata": {},
   "outputs": [
    {
     "data": {
      "image/png": "[encoded data removed]",
      "text/plain": [
       "<Figure size 288x288 with 1 Axes>"
      ]
     },
     "metadata": {
      "needs_background": "light"
     },
     "output_type": "display_data"
    }
   ],
   "source": [
    "plt.matshow(transition_frequency_normalized);\n",
    "plt.axis('off')\n",
    "for i in range(26):\n",
    "    plt.text(i - 0.5, -1, LETTERS[i])\n",
    "    plt.text(-1.5, i + 0.5, LETTERS[i])"
   ]
  },
  {
   "cell_type": "markdown",
   "metadata": {},
   "source": [
    "# Permutation space\n",
    "\n",
    "```\n",
    "* * * * * * * * * * \n",
    "* * * * * * * * * #\n",
    "# * * * * * * * # #\n",
    "```\n",
    "\n",
    "|    |    |    |    |    |    |    |    |    |   |\n",
    "|:--:|:--:|:--:|:--:|:--:|:--:|:--:|:--:|:--:|:-:|\n",
    "| 0  | 1  | 2  | 3  | 4  | 5  | 6  | 7  | 8  | 9 |\n",
    "| 10 | 11 | 12 | 13 | 14 | 15 | 16 | 17 | 18 | # |\n",
    "| #  | 19 | 20 | 21 | 22 | 23 | 24 | 25 | #  | # |"
   ]
  },
  {
   "cell_type": "markdown",
   "metadata": {},
   "source": [
    "# Optimization"
   ]
  },
  {
   "cell_type": "code",
   "execution_count": 74,
   "metadata": {},
   "outputs": [],
   "source": [
    "STATIC_ADJACENCY = np.array([\n",
    "#    0  1  2  3  4  5  6  7  8  9 10 11 12 13 14 15 16 17 18 19 20 21 22 23 24 25\n",
    "    [0, 1, 0, 0, 0, 0, 0, 0, 0, 1, 1, 0, 0, 0, 0, 0, 0, 0, 0, 0, 0, 0, 0, 0, 0, 0], # 0\n",
    "    [1, 0, 1, 0, 0, 0, 0, 0, 0, 0, 0, 1, 0, 0, 0, 0, 0, 0, 0, 0, 0, 0, 0, 0, 0, 0], # 1\n",
    "    [0, 1, 0, 1, 0, 0, 0, 0, 0, 0, 0, 0, 1, 0, 0, 0, 0, 0, 0, 0, 0, 0, 0, 0, 0, 0], # 2\n",
    "    [0, 0, 1, 0, 1, 0, 0, 0, 0, 0, 0, 0, 0, 1, 0, 0, 0, 0, 0, 0, 0, 0, 0, 0, 0, 0], # 3\n",
    "    [0, 0, 0, 1, 0, 1, 0, 0, 0, 0, 0, 0, 0, 0, 1, 0, 0, 0, 0, 0, 0, 0, 0, 0, 0, 0], # 4\n",
    "    [0, 0, 0, 0, 1, 0, 1, 0, 0, 0, 0, 0, 0, 0, 0, 1, 0, 0, 0, 0, 0, 0, 0, 0, 0, 0], # 5\n",
    "    [0, 0, 0, 0, 0, 1, 0, 1, 0, 0, 0, 0, 0, 0, 0, 0, 1, 0, 0, 0, 0, 0, 0, 0, 0, 0], # 6\n",
    "    [0, 0, 0, 0, 0, 0, 1, 0, 1, 0, 0, 0, 0, 0, 0, 0, 0, 1, 0, 0, 0, 0, 0, 0, 0, 0], # 7\n",
    "    [0, 0, 0, 0, 0, 0, 0, 1, 0, 1, 0, 0, 0, 0, 0, 0, 0, 0, 1, 0, 0, 0, 0, 0, 0, 0], # 8\n",
    "    [1, 0, 0, 0, 0, 0, 0, 0, 1, 0, 0, 0, 0, 0, 0, 0, 0, 0, 0, 0, 0, 0, 0, 0, 0, 0], # 9\n",
    "    [1, 0, 0, 0, 0, 0, 0, 0, 0, 0, 0, 1, 0, 0, 0, 0, 0, 0, 0, 0, 0, 0, 0, 0, 0, 0], # 10\n",
    "    [0, 1, 0, 0, 0, 0, 0, 0, 0, 0, 1, 0, 1, 0, 0, 0, 0, 0, 0, 1, 0, 0, 0, 0, 0, 0], # 11\n",
    "    [0, 0, 1, 0, 0, 0, 0, 0, 0, 0, 0, 1, 0, 1, 0, 0, 0, 0, 0, 0, 1, 0, 0, 0, 0, 0], # 12\n",
    "    [0, 0, 0, 1, 0, 0, 0, 0, 0, 0, 0, 0, 1, 0, 1, 0, 0, 0, 0, 0, 0, 1, 0, 0, 0, 0], # 13\n",
    "    [0, 0, 0, 0, 1, 0, 0, 0, 0, 0, 0, 0, 0, 1, 0, 1, 0, 0, 0, 0, 0, 0, 1, 0, 0, 0], # 14\n",
    "    [0, 0, 0, 0, 0, 1, 0, 0, 0, 0, 0, 0, 0, 0, 1, 0, 1, 0, 0, 0, 0, 0, 0, 1, 0, 0], # 15\n",
    "    [0, 0, 0, 0, 0, 0, 1, 0, 0, 0, 0, 0, 0, 0, 0, 1, 0, 1, 0, 0, 0, 0, 0, 0, 1, 0], # 16\n",
    "    [0, 0, 0, 0, 0, 0, 0, 1, 0, 0, 0, 0, 0, 0, 0, 0, 1, 0, 1, 0, 0, 0, 0, 0, 0, 1], # 17\n",
    "    [0, 0, 0, 0, 0, 0, 0, 0, 1, 0, 0, 0, 0, 0, 0, 0, 0, 1, 0, 0, 0, 0, 0, 0, 0, 0], # 18\n",
    "    [0, 0, 0, 0, 0, 0, 0, 0, 0, 0, 0, 1, 0, 0, 0, 0, 0, 0, 0, 0, 1, 0, 0, 0, 0, 0], # 19\n",
    "    [0, 0, 0, 0, 0, 0, 0, 0, 0, 0, 0, 0, 1, 0, 0, 0, 0, 0, 0, 1, 0, 1, 0, 0, 0, 0], # 20\n",
    "    [0, 0, 0, 0, 0, 0, 0, 0, 0, 0, 0, 0, 0, 1, 0, 0, 0, 0, 0, 0, 1, 0, 1, 0, 0, 0], # 21\n",
    "    [0, 0, 0, 0, 0, 0, 0, 0, 0, 0, 0, 0, 0, 0, 1, 0, 0, 0, 0, 0, 0, 1, 0, 1, 0, 0], # 22\n",
    "    [0, 0, 0, 0, 0, 0, 0, 0, 0, 0, 0, 0, 0, 0, 0, 1, 0, 0, 0, 0, 0, 0, 1, 0, 1, 0], # 23\n",
    "    [0, 0, 0, 0, 0, 0, 0, 0, 0, 0, 0, 0, 0, 0, 0, 0, 1, 0, 0, 0, 0, 0, 0, 1, 0, 1], # 24\n",
    "    [0, 0, 0, 0, 0, 0, 0, 0, 0, 0, 0, 0, 0, 0, 0, 0, 0, 1, 0, 0, 0, 0, 0, 0, 1, 0], # 25\n",
    "])"
   ]
  },
  {
   "cell_type": "code",
   "execution_count": 80,
   "metadata": {},
   "outputs": [],
   "source": [
    "def board_adjacency(permutation):\n",
    "    \"\"\"\n",
    "    permutation: [1, 3, 2, 6, 0, 5, ...]\n",
    "    \n",
    "    the (i,j) entry of this matrix should tell you, given the keyboard,\n",
    "    populated with the alphabet according to the permutation,\n",
    "    if the ith letter of the alphabet is adjacent to the jth letter of the alphabet\n",
    "    \n",
    "    the rows and columns correspond to letters, not numbered spots\n",
    "    \n",
    "    \"\"\"\n",
    "    change_of_basis = np.zeros((26, 26))\n",
    "    for i, j in enumerate(permutation):\n",
    "        change_of_basis[j][i] = 1\n",
    "    return np.linalg.inv(change_of_basis) @ STATIC_ADJACENCY @ change_of_basis"
   ]
  },
  {
   "cell_type": "code",
   "execution_count": 81,
   "metadata": {},
   "outputs": [
    {
     "name": "stdout",
     "output_type": "stream",
     "text": [
      "    a b c d e f g h i j k l m n o p q r s t u v w x y z \n",
      "a : 0 1 0 0 0 0 0 0 0 1 1 0 0 0 0 0 0 0 0 0 0 0 0 0 0 0\n",
      "b : 1 0 1 0 0 0 0 0 0 0 0 1 0 0 0 0 0 0 0 0 0 0 0 0 0 0\n",
      "c : 0 1 0 0 1 0 0 0 0 0 0 0 1 0 0 0 0 0 0 0 0 0 0 0 0 0\n",
      "d : 0 0 0 0 1 1 0 0 0 0 0 0 0 0 1 0 0 0 0 0 0 0 0 0 0 0\n",
      "e : 0 0 1 1 0 0 0 0 0 0 0 0 0 1 0 0 0 0 0 0 0 0 0 0 0 0\n",
      "f : 0 0 0 1 0 0 1 0 0 0 0 0 0 0 0 1 0 0 0 0 0 0 0 0 0 0\n",
      "g : 0 0 0 0 0 1 0 1 0 0 0 0 0 0 0 0 1 0 0 0 0 0 0 0 0 0\n",
      "h : 0 0 0 0 0 0 1 0 1 0 0 0 0 0 0 0 0 1 0 0 0 0 0 0 0 0\n",
      "i : 0 0 0 0 0 0 0 1 0 1 0 0 0 0 0 0 0 0 1 0 0 0 0 0 0 0\n",
      "j : 1 0 0 0 0 0 0 0 1 0 0 0 0 0 0 0 0 0 0 0 0 0 0 0 0 0\n",
      "k : 1 0 0 0 0 0 0 0 0 0 0 1 0 0 0 0 0 0 0 0 0 0 0 0 0 0\n",
      "l : 0 1 0 0 0 0 0 0 0 0 1 0 1 0 0 0 0 0 0 1 0 0 0 0 0 0\n",
      "m : 0 0 1 0 0 0 0 0 0 0 0 1 0 1 0 0 0 0 0 0 1 0 0 0 0 0\n",
      "n : 0 0 0 0 1 0 0 0 0 0 0 0 1 0 1 0 0 0 0 0 0 1 0 0 0 0\n",
      "o : 0 0 0 1 0 0 0 0 0 0 0 0 0 1 0 1 0 0 0 0 0 0 1 0 0 0\n",
      "p : 0 0 0 0 0 1 0 0 0 0 0 0 0 0 1 0 1 0 0 0 0 0 0 1 0 0\n",
      "q : 0 0 0 0 0 0 1 0 0 0 0 0 0 0 0 1 0 1 0 0 0 0 0 0 1 0\n",
      "r : 0 0 0 0 0 0 0 1 0 0 0 0 0 0 0 0 1 0 1 0 0 0 0 0 0 1\n",
      "s : 0 0 0 0 0 0 0 0 1 0 0 0 0 0 0 0 0 1 0 0 0 0 0 0 0 0\n",
      "t : 0 0 0 0 0 0 0 0 0 0 0 1 0 0 0 0 0 0 0 0 1 0 0 0 0 0\n",
      "u : 0 0 0 0 0 0 0 0 0 0 0 0 1 0 0 0 0 0 0 1 0 1 0 0 0 0\n",
      "v : 0 0 0 0 0 0 0 0 0 0 0 0 0 1 0 0 0 0 0 0 1 0 1 0 0 0\n",
      "w : 0 0 0 0 0 0 0 0 0 0 0 0 0 0 1 0 0 0 0 0 0 1 0 1 0 0\n",
      "x : 0 0 0 0 0 0 0 0 0 0 0 0 0 0 0 1 0 0 0 0 0 0 1 0 1 0\n",
      "y : 0 0 0 0 0 0 0 0 0 0 0 0 0 0 0 0 1 0 0 0 0 0 0 1 0 1\n",
      "z : 0 0 0 0 0 0 0 0 0 0 0 0 0 0 0 0 0 1 0 0 0 0 0 0 1 0\n"
     ]
    }
   ],
   "source": [
    "a = board_adjacency([0, 1, 2, 4, 3, 5, 6, 7, 8, 9, 10, 11, 12, 13, 14, 15, 16, 17, 18, 19, 20, 21, 22, 23, 24, 25])\n",
    "print('    ' + ''.join(f'{LETTERS[el]:2}' for el in range(26)))\n",
    "for i, line in enumerate(a):\n",
    "    print(f\"{LETTERS[i]:2}: \" + \" \".join(str(el)[0] for el in line))"
   ]
  },
  {
   "cell_type": "code",
   "execution_count": 103,
   "metadata": {},
   "outputs": [],
   "source": [
    "def distance_matrix(permutation):\n",
    "    ret = np.zeros((26, 26))\n",
    "    b_adj = board_adjacency(permutation)\n",
    "    C = copy.deepcopy(b_adj)\n",
    "    for k in range(1, 8):\n",
    "        for i in range(26):\n",
    "            for j in range(26):\n",
    "                if i != j and C[i][j] != 0 and ret[i][j] == 0:\n",
    "                    ret[i][j] = k\n",
    "        C = C @ b_adj\n",
    "    return ret"
   ]
  },
  {
   "cell_type": "code",
   "execution_count": 104,
   "metadata": {},
   "outputs": [
    {
     "name": "stdout",
     "output_type": "stream",
     "text": [
      "    a b c d e f g h i j k l m n o p q r s t u v w x y z \n",
      "a : 0 1 2 4 3 5 4 3 2 1 1 2 3 4 5 6 5 4 3 3 4 5 6 7 6 5\n",
      "b : 1 0 1 3 2 4 5 4 3 2 2 1 2 3 4 5 6 5 4 2 3 4 5 6 7 6\n",
      "c : 2 1 0 2 1 3 4 5 4 3 3 2 1 2 3 4 5 6 5 3 2 3 4 5 6 7\n",
      "d : 4 3 2 0 1 1 2 3 4 5 5 4 3 2 1 2 3 4 5 5 4 3 2 3 4 5\n",
      "e : 3 2 1 1 0 2 3 4 5 4 4 3 2 1 2 3 4 5 6 4 3 2 3 4 5 6\n",
      "f : 5 4 3 1 2 0 1 2 3 4 6 5 4 3 2 1 2 3 4 6 5 4 3 2 3 4\n",
      "g : 4 5 4 2 3 1 0 1 2 3 5 6 5 4 3 2 1 2 3 7 6 5 4 3 2 3\n",
      "h : 3 4 5 3 4 2 1 0 1 2 4 5 6 5 4 3 2 1 2 6 7 6 5 4 3 2\n",
      "i : 2 3 4 4 5 3 2 1 0 1 3 4 5 6 5 4 3 2 1 5 6 7 6 5 4 3\n",
      "j : 1 2 3 5 4 4 3 2 1 0 2 3 4 5 6 5 4 3 2 4 5 6 7 6 5 4\n",
      "k : 1 2 3 5 4 6 5 4 3 2 0 1 2 3 4 5 6 5 4 2 3 4 5 6 7 6\n",
      "l : 2 1 2 4 3 5 6 5 4 3 1 0 1 2 3 4 5 6 5 1 2 3 4 5 6 7\n",
      "m : 3 2 1 3 2 4 5 6 5 4 2 1 0 1 2 3 4 5 6 2 1 2 3 4 5 6\n",
      "n : 4 3 2 2 1 3 4 5 6 5 3 2 1 0 1 2 3 4 5 3 2 1 2 3 4 5\n",
      "o : 5 4 3 1 2 2 3 4 5 6 4 3 2 1 0 1 2 3 4 4 3 2 1 2 3 4\n",
      "p : 6 5 4 2 3 1 2 3 4 5 5 4 3 2 1 0 1 2 3 5 4 3 2 1 2 3\n",
      "q : 5 6 5 3 4 2 1 2 3 4 6 5 4 3 2 1 0 1 2 6 5 4 3 2 1 2\n",
      "r : 4 5 6 4 5 3 2 1 2 3 5 6 5 4 3 2 1 0 1 7 6 5 4 3 2 1\n",
      "s : 3 4 5 5 6 4 3 2 1 2 4 5 6 5 4 3 2 1 0 6 7 6 5 4 3 2\n",
      "t : 3 2 3 5 4 6 7 6 5 4 2 1 2 3 4 5 6 7 6 0 1 2 3 4 5 6\n",
      "u : 4 3 2 4 3 5 6 7 6 5 3 2 1 2 3 4 5 6 7 1 0 1 2 3 4 5\n",
      "v : 5 4 3 3 2 4 5 6 7 6 4 3 2 1 2 3 4 5 6 2 1 0 1 2 3 4\n",
      "w : 6 5 4 2 3 3 4 5 6 7 5 4 3 2 1 2 3 4 5 3 2 1 0 1 2 3\n",
      "x : 7 6 5 3 4 2 3 4 5 6 6 5 4 3 2 1 2 3 4 4 3 2 1 0 1 2\n",
      "y : 6 7 6 4 5 3 2 3 4 5 7 6 5 4 3 2 1 2 3 5 4 3 2 1 0 1\n",
      "z : 5 6 7 5 6 4 3 2 3 4 6 7 6 5 4 3 2 1 2 6 5 4 3 2 1 0\n"
     ]
    }
   ],
   "source": [
    "d = distance_matrix([0, 1, 2, 4, 3, 5, 6, 7, 8, 9, 10, 11, 12, 13, 14, 15, 16, 17, 18, 19, 20, 21, 22, 23, 24, 25])\n",
    "print('    ' + ''.join(f'{LETTERS[el]:2}' for el in range(26)))\n",
    "for i, line in enumerate(d):\n",
    "    print(f\"{LETTERS[i]:2}: \" + \" \".join(str(el)[0] for el in line))"
   ]
  },
  {
   "cell_type": "code",
   "execution_count": 112,
   "metadata": {},
   "outputs": [],
   "source": [
    "def cost(permutation):\n",
    "    dist = distance_matrix(permutation)\n",
    "    c = 0\n",
    "    for i in range(26):\n",
    "        s = 0\n",
    "        for j in range(26):\n",
    "            s += transition_frequency_normalized[i][j] * dist[i][j]\n",
    "        c += s * letter_frequency_normalized[i]\n",
    "    return c"
   ]
  },
  {
   "cell_type": "code",
   "execution_count": 145,
   "metadata": {},
   "outputs": [],
   "source": [
    "def print_board(permutation):\n",
    "    lp = [LETTERS[i] for i in permutation]\n",
    "    print(*lp[0:10])\n",
    "    print(*lp[10:19])\n",
    "    print(' ', *lp[19:])"
   ]
  },
  {
   "cell_type": "code",
   "execution_count": 113,
   "metadata": {},
   "outputs": [
    {
     "data": {
      "text/plain": [
       "3.3807064213782656"
      ]
     },
     "execution_count": 113,
     "metadata": {},
     "output_type": "execute_result"
    }
   ],
   "source": [
    "# standard a...z\n",
    "cost(list(range(26)))"
   ]
  },
  {
   "cell_type": "code",
   "execution_count": 120,
   "metadata": {},
   "outputs": [
    {
     "data": {
      "text/plain": [
       "3.461252885974946"
      ]
     },
     "execution_count": 120,
     "metadata": {},
     "output_type": "execute_result"
    }
   ],
   "source": [
    "# qwerty\n",
    "qwerty = 'qwertyuiopasdfghjklzxcvbnm'\n",
    "cost([LETTERS.index(el) for el in qwerty])"
   ]
  },
  {
   "cell_type": "code",
   "execution_count": 134,
   "metadata": {},
   "outputs": [
    {
     "name": "stdout",
     "output_type": "stream",
     "text": [
      "average:  3.4358331204630077\n"
     ]
    }
   ],
   "source": [
    "# random\n",
    "total = 10000\n",
    "avg = 0\n",
    "lowest_cost = 2.7851\n",
    "for i in range(total):\n",
    "    permutation = np.random.permutation(26)\n",
    "    c = cost(permutation)\n",
    "    if c < lowest_cost:\n",
    "        print(f'cost: {c:.5}   p: {permutation}')\n",
    "        lowest_cost = c\n",
    "    avg += c\n",
    "print('average: ', avg / total)"
   ]
  },
  {
   "cell_type": "code",
   "execution_count": null,
   "metadata": {},
   "outputs": [],
   "source": [
    "cost: 2.7851   p: [ 6 18 25  7 13 19  8 20 16 12 21 15 17 24 14 11  2  5  4 22 23  9 10  1 3  0]"
   ]
  },
  {
   "cell_type": "code",
   "execution_count": 146,
   "metadata": {},
   "outputs": [
    {
     "name": "stdout",
     "output_type": "stream",
     "text": [
      "g s z h n t i u q m\n",
      "v p r y o l c f e\n",
      "  w x j k b d a\n"
     ]
    }
   ],
   "source": [
    "print_board([6,18,25,7,13,19,8,20,16,12,21,15,17,24,14,11,2,5,4,22,23,9,10,1,3,0])"
   ]
  },
  {
   "cell_type": "code",
   "execution_count": 149,
   "metadata": {},
   "outputs": [
    {
     "name": "stdout",
     "output_type": "stream",
     "text": [
      "g s z h n t i m u q\n",
      "v p r y o l c f e\n",
      "  w x j k b d a\n"
     ]
    },
    {
     "data": {
      "text/plain": [
       "3.0815222713734975"
      ]
     },
     "execution_count": 149,
     "metadata": {},
     "output_type": "execute_result"
    }
   ],
   "source": [
    "print_board([6,18,25,7,13,19,8,12,20,16,21,15,17,24,14,11,2,5,4,22,23,9,10,1,3,0])\n",
    "cost([6,18,25,7,13,19,8,12,20,16,21,15,17,24,14,11,2,5,4,22,23,9,10,1,3,0])"
   ]
  },
  {
   "cell_type": "code",
   "execution_count": null,
   "metadata": {},
   "outputs": [],
   "source": []
  }
 ],
 "metadata": {
  "kernelspec": {
   "display_name": "Python 3",
   "language": "python",
   "name": "python3"
  },
  "language_info": {
   "codemirror_mode": {
    "name": "ipython",
    "version": 3
   },
   "file_extension": ".py",
   "mimetype": "text/x-python",
   "name": "python",
   "nbconvert_exporter": "python",
   "pygments_lexer": "ipython3",
   "version": "3.7.7"
  }
 },
 "nbformat": 4,
 "nbformat_minor": 4
}
