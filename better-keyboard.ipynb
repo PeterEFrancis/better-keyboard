{
 "cells": [
  {
   "cell_type": "code",
   "execution_count": null,
   "metadata": {
    "tags": []
   },
   "outputs": [],
   "source": [
    "import numpy as np\n",
    "import matplotlib.pyplot as plt\n",
    "import copy\n",
    "import random\n",
    "from functools import *"
   ]
  },
  {
   "cell_type": "markdown",
   "metadata": {
    "tags": []
   },
   "source": [
    "# Frequency Matrix"
   ]
  },
  {
   "cell_type": "code",
   "execution_count": null,
   "metadata": {
    "tags": []
   },
   "outputs": [],
   "source": [
    "def flatten_caps(word):\n",
    "    ret = ''\n",
    "    for c in word:\n",
    "        if c.isupper():\n",
    "            ret += 'A'\n",
    "        ret += c.lower()\n",
    "    return ret"
   ]
  },
  {
   "cell_type": "code",
   "execution_count": null,
   "metadata": {
    "tags": []
   },
   "outputs": [],
   "source": [
    "def get_freq_matrix(dictionary, v=False):\n",
    "    LETTERS = set()\n",
    "    for word in dictionary:\n",
    "        LETTERS = LETTERS.union(set(word))\n",
    "    LETTERS = sorted(list(LETTERS))\n",
    "    LETTERS_INDEX = dict([el[::-1] for el in enumerate(LETTERS)])\n",
    "    \n",
    "    num_letters = len(LETTERS)\n",
    "    letter_frequency = np.zeros(num_letters)\n",
    "    transition_frequency = np.zeros((num_letters, num_letters))\n",
    "\n",
    "    for word in dictionary:\n",
    "        for i in range(len(word) - 1):\n",
    "            letter_frequency[LETTERS_INDEX[word[i]]] += 1\n",
    "            transition_frequency[LETTERS_INDEX[word[i]]][LETTERS_INDEX[word[i + 1]]] += 1\n",
    "            \n",
    "    # print(sum(transition_frequency))\n",
    "    transition_frequency_normalized = np.array([row / sum(row) if sum(row) > 0 else row for row in transition_frequency])\n",
    "    \n",
    "    if v:\n",
    "        plt.bar([el for el in LETTERS], letter_frequency);\n",
    "        plt.matshow(transition_frequency_normalized);\n",
    "        plt.axis('off')\n",
    "        for i in range(len(LETTERS)):\n",
    "            plt.text(i - 0.5, -1, LETTERS[i])\n",
    "            plt.text(-1.5, i + 0.5, LETTERS[i])\n",
    "            \n",
    "    return transition_frequency_normalized, LETTERS"
   ]
  },
  {
   "cell_type": "markdown",
   "metadata": {
    "tags": []
   },
   "source": [
    "# Cost Function"
   ]
  },
  {
   "cell_type": "code",
   "execution_count": null,
   "metadata": {
    "tags": []
   },
   "outputs": [],
   "source": [
    "@lru_cache(maxsize = None)\n",
    "def get_distance_matrix(l, w):\n",
    "    \"\"\"\n",
    "    given a length and width of grid, find the minimum distance between each two entries\n",
    "    \n",
    "    returns a matrix\n",
    "    \"\"\"\n",
    "    \n",
    "    ret = np.zeros((l * w, l * w))\n",
    "    for i in range(l * w):\n",
    "        for j in range(l * w):\n",
    "            x1, y1 = divmod(i, w)\n",
    "            x2, y2 = divmod(j, w)\n",
    "            ret[i][j] = abs(x1 - x2) + abs(y1 - y2)\n",
    "            \n",
    "    return ret"
   ]
  },
  {
   "cell_type": "code",
   "execution_count": null,
   "metadata": {
    "tags": []
   },
   "outputs": [],
   "source": [
    "def flatten(board):\n",
    "    ret = []\n",
    "    for row in board:\n",
    "        ret.extend(row)\n",
    "    return ret"
   ]
  },
  {
   "cell_type": "code",
   "execution_count": null,
   "metadata": {
    "tags": []
   },
   "outputs": [],
   "source": [
    "def get_perm_matrix(perm):\n",
    "    ret = np.zeros((len(perm), len(perm)))\n",
    "    for i in range(len(perm)):\n",
    "        ret[i][perm[i]] += 1\n",
    "    return ret"
   ]
  },
  {
   "cell_type": "code",
   "execution_count": null,
   "metadata": {
    "tags": []
   },
   "outputs": [],
   "source": [
    "def get_conjugate_distance_matrix(board):\n",
    "    \"\"\"\n",
    "    board is a grid of letters\n",
    "    use `get_distance_matrix` to find the matrix of distances between letter pairs\n",
    "    `get_distance_matrix` should be cached, so this should be faster\n",
    "    \n",
    "    in other words, return ret = `get_distance_matrix` with permuted rows and cols\n",
    "    so that ret[i][j] is the distance between the ith and jth letters instead of the \n",
    "    [i // w][i % w] [j // w][j % w] positions\n",
    "    \n",
    "    This should be done by conjugating `get_distance_matrix` with the permutation\n",
    "    matrix for the permutation flatten(board) with respect to sorted(flatten(board))\n",
    "\n",
    "    \"\"\"\n",
    "    \n",
    "    dist_mat = get_distance_matrix(len(board), len(board[0]))\n",
    "    flattened_board = flatten(board)\n",
    "    sorted_flattened_board = sorted(flattened_board)\n",
    "    perm_matrix = get_perm_matrix([flattened_board.index(c) for c in sorted_flattened_board])\n",
    "    \n",
    "    return perm_matrix @ dist_mat @ np.linalg.inv(perm_matrix)"
   ]
  },
  {
   "cell_type": "code",
   "execution_count": null,
   "metadata": {},
   "outputs": [],
   "source": [
    "board = [\n",
    "    ['b', 'f', 'd'],\n",
    "    ['c', 'e', 'a']\n",
    "]\n",
    "print(get_distance_matrix(2, 3))\n",
    "print()\n",
    "print(get_conjugate_distance_matrix(board))"
   ]
  },
  {
   "cell_type": "code",
   "execution_count": null,
   "metadata": {
    "tags": []
   },
   "outputs": [],
   "source": [
    "def cost(board, freq_matrix):\n",
    "    \"\"\"\n",
    "    board should be rectangle\n",
    "    freq_matrix gives frequency a matrix populated by a dictionary\n",
    "    they should be the same dimension\n",
    "    \n",
    "    \"\"\"\n",
    "    return sum(sum(freq_matrix * get_conjugate_distance_matrix(board)))"
   ]
  },
  {
   "cell_type": "markdown",
   "metadata": {},
   "source": [
    "# Optimization"
   ]
  },
  {
   "cell_type": "code",
   "execution_count": null,
   "metadata": {
    "tags": []
   },
   "outputs": [],
   "source": [
    "dictionary = []\n",
    "with open('words.txt') as f:\n",
    "    for word in f.readlines():\n",
    "        dictionary.append(flatten_caps(word.strip()))"
   ]
  },
  {
   "cell_type": "code",
   "execution_count": null,
   "metadata": {
    "tags": []
   },
   "outputs": [],
   "source": [
    "freq_matrix, LETTERS = get_freq_matrix(dictionary)"
   ]
  },
  {
   "cell_type": "code",
   "execution_count": null,
   "metadata": {
    "tags": []
   },
   "outputs": [],
   "source": [
    "print(\"\".join(LETTERS))"
   ]
  },
  {
   "cell_type": "code",
   "execution_count": null,
   "metadata": {},
   "outputs": [],
   "source": []
  },
  {
   "cell_type": "code",
   "execution_count": null,
   "metadata": {},
   "outputs": [],
   "source": []
  },
  {
   "cell_type": "code",
   "execution_count": null,
   "metadata": {},
   "outputs": [],
   "source": []
  },
  {
   "cell_type": "code",
   "execution_count": null,
   "metadata": {},
   "outputs": [],
   "source": []
  },
  {
   "cell_type": "code",
   "execution_count": null,
   "metadata": {},
   "outputs": [],
   "source": []
  },
  {
   "cell_type": "code",
   "execution_count": null,
   "metadata": {},
   "outputs": [],
   "source": []
  },
  {
   "cell_type": "code",
   "execution_count": null,
   "metadata": {},
   "outputs": [],
   "source": []
  },
  {
   "cell_type": "markdown",
   "metadata": {
    "tags": []
   },
   "source": [
    "# Niave tree search"
   ]
  },
  {
   "cell_type": "code",
   "execution_count": null,
   "metadata": {},
   "outputs": [],
   "source": [
    "def random_swaps(permutation, num_swaps):\n",
    "    for i in range(num_swaps):\n",
    "        r1 = random.randint(0, 25)\n",
    "        r2 = random.randint(0, 25)\n",
    "        while r1 == r2:\n",
    "            r2 = random.randint(0, 25)\n",
    "        permutation[r1], permutation[r2] = permutation[r2], permutation[r1]\n",
    "    return permutation"
   ]
  },
  {
   "cell_type": "code",
   "execution_count": null,
   "metadata": {},
   "outputs": [],
   "source": [
    "def optimal_num_children(num_swaps):\n",
    "    total_number_of_children = 350 ** num_swaps\n",
    "    # percent of population for half confidence of seeing all children\n",
    "    # https://www.desmos.com/calculator/d1svxeq9uj\n",
    "    perc = np.math.log(0.7 * (total_number_of_children + 2), np.math.e) + 0.7\n",
    "    return int(perc * total_number_of_children)"
   ]
  },
  {
   "cell_type": "code",
   "execution_count": null,
   "metadata": {
    "tags": []
   },
   "outputs": [],
   "source": [
    "best_permutation = None\n",
    "new_best_permutation = list(np.random.permutation(26).data)\n",
    "best_cost = cost(new_best_permutation)\n",
    "\n",
    "for num_swaps in [10, 10, 9, 9, 8, 8, 7, 6, 5, 4, 4, 4, 4] + ([3] * 10) + ([2] * 20) + ([1] * 10):\n",
    "    best_permutation = new_best_permutation.copy()\n",
    "    for _ in range(100):\n",
    "        new_permutation = random_swaps(best_permutation.copy(), num_swaps)\n",
    "        c = cost(new_permutation)\n",
    "        if c < best_cost:\n",
    "            best_cost = c\n",
    "            new_best_permutation = new_permutation.copy()\n",
    "    print(num_swaps, '  best:', best_cost)"
   ]
  },
  {
   "cell_type": "code",
   "execution_count": null,
   "metadata": {},
   "outputs": [],
   "source": [
    "print(new_best_permutation)\n",
    "print_board(new_best_permutation)\n",
    "cost(new_best_permutation)"
   ]
  },
  {
   "cell_type": "code",
   "execution_count": null,
   "metadata": {},
   "outputs": [],
   "source": []
  },
  {
   "cell_type": "code",
   "execution_count": null,
   "metadata": {},
   "outputs": [],
   "source": []
  },
  {
   "cell_type": "code",
   "execution_count": null,
   "metadata": {},
   "outputs": [],
   "source": []
  },
  {
   "cell_type": "code",
   "execution_count": null,
   "metadata": {},
   "outputs": [],
   "source": []
  }
 ],
 "metadata": {
  "kernelspec": {
   "display_name": "Python 3 (ipykernel)",
   "language": "python",
   "name": "python3"
  },
  "language_info": {
   "codemirror_mode": {
    "name": "ipython",
    "version": 3
   },
   "file_extension": ".py",
   "mimetype": "text/x-python",
   "name": "python",
   "nbconvert_exporter": "python",
   "pygments_lexer": "ipython3",
   "version": "3.11.11"
  }
 },
 "nbformat": 4,
 "nbformat_minor": 4
}
